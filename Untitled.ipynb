{
 "cells": [
  {
   "cell_type": "code",
   "execution_count": 22,
   "id": "47521f1b",
   "metadata": {},
   "outputs": [],
   "source": [
    "import pandas as pd\n",
    "import csv\n",
    "import re"
   ]
  },
  {
   "cell_type": "code",
   "execution_count": 3,
   "id": "893aa6ff",
   "metadata": {},
   "outputs": [],
   "source": [
    "#Retriving the Headers from the example.csv file\n",
    "with open('example.csv', 'r', encoding=\"utf-8\") as f:\n",
    "    f_reader = csv.reader(f)\n",
    "    header =[]\n",
    "    header = next(f_reader)\n"
   ]
  },
  {
   "cell_type": "code",
   "execution_count": 27,
   "id": "847abe3a",
   "metadata": {},
   "outputs": [],
   "source": [
    "#Renaming the headers from homework.csv using pandas and saving it to new homework1.csv to retain original homework.csv file\n",
    "df = pd.read_csv(\"homework.csv\", encoding=\"utf-8\")\n",
    "\n",
    "df.rename(columns={\"item weight (pounds)\": \"weight\",\n",
    "                   'item depth (inches)':'length',\n",
    "                   'item height (inches)':'height',\n",
    "                   'item width (inches)':'width', \n",
    "                   'wholesale ($)':'cost_price',\n",
    "                   'map ($)':'min_price',\n",
    "                   'description':'product_title',\n",
    "                   'long description':'product_description',\n",
    "                   'brand':'product__brand__name',\n",
    "                   'item category':'product__product_class__name',\n",
    "                   'item materials':'attrib__material',\n",
    "                   'item finish':'attrib__finish',\n",
    "                   'bulb 1 count':'attrib__number_bulbs',\n",
    "                   'bulb 1 type':'attrib__bulb_type',\n",
    "                   'switch type':'attrib__switch_type',\n",
    "                   'bulb 1 wattage':'attrib__wattage',\n",
    "                   'outdoor':'attrib__outdoor_safe',\n",
    "                   'primary color family':'attrib__color',\n",
    "                   'carton 1 width (inches)':'boxes__0__width',\n",
    "                   'carton 1 length (inches)':'boxes__0__length',\n",
    "                   'carton 1 height (inches)':'boxes__0__height',\n",
    "                   'carton 1 weight (pounds)':'boxes__0__weight',\n",
    "                   'carton 2 width (inches)':'boxes__1__width',\n",
    "                   'carton 2 length (inches)':'boxes__1__length',\n",
    "                   'carton 2 height (inches)':'boxes__1__height',\n",
    "                   'carton 2 weight (pounds)':'boxes__1__weight',\n",
    "                   'carton 3 width (inches)':'boxes__2__width',\n",
    "                   'carton 3 length (inches)':'boxes__2__length',\n",
    "                   'carton 3 height (inches)':'boxes__2__height',\n",
    "                   'carton 3 weight (pounds)':'boxes__2__weight',\n",
    "                   'conversion kit option':'attrib__kit',\n",
    "                   'safety rating':'attrib__ul_certified', #convert UL to YES else to NO\n",
    "                   'cord length (inches)':'attrib__cord_length',\n",
    "                   'furniture arm height (inches)': 'attrib__arm_height',\n",
    "                   'furniture seat height (inches)':'attrib__seat_height',\n",
    "                   'furniture seat dimensions (inches)':'attrib__seat_width', #change\n",
    "                   'furniture weight capacity (pounds)':'attrib__weight_capacity',\n",
    "                   'country of origin':'product__country_of_origin__alpha_3',\n",
    "                   'product_title' : 'product__title',\n",
    "                   'long description' : 'product__description',\n",
    "                  'item style':'product__styles',}, inplace=True)\n",
    "\n",
    "df.to_csv('homework1.csv', index=False)\n"
   ]
  },
  {
   "cell_type": "code",
   "execution_count": 28,
   "id": "bb8baff8",
   "metadata": {},
   "outputs": [],
   "source": [
    "#creating a list with the updated Headers from homework(1).csv\n",
    "with open('homework1.csv', 'r', encoding=\"utf-8\") as e:\n",
    "    e_reader = csv.reader(e)\n",
    "    header2 =[]\n",
    "    header2 = next(e_reader)"
   ]
  },
  {
   "cell_type": "code",
   "execution_count": 29,
   "id": "66c77c94",
   "metadata": {},
   "outputs": [],
   "source": [
    "#creating a list with Headers that were common to both example.csv and UPDATED homework(1).csv\n",
    "common = list(set(header).intersection(header2))"
   ]
  },
  {
   "cell_type": "code",
   "execution_count": 30,
   "id": "7bcab366",
   "metadata": {},
   "outputs": [],
   "source": [
    "#creating new csv file and removing datasets not present/required according to example.csv, saving to new homework2.csv\n",
    "df2 = pd.read_csv(\"homework1.csv\", encoding=\"utf-8\")\n",
    "keep_col = common\n",
    "dfChanged = df2[keep_col]\n",
    "dfChanged.to_csv('homework2.csv', index=False)"
   ]
  },
  {
   "cell_type": "code",
   "execution_count": 44,
   "id": "15e31542",
   "metadata": {},
   "outputs": [],
   "source": [
    "#filling up the rows of homework(3).csv with data\n",
    "with open('homework2.csv', 'r', encoding=\"utf-8\") as g:\n",
    "    g_reader = csv.DictReader(g)\n",
    "    #next(g_reader)\n",
    "    with open('homework3.csv', 'w', encoding=\"utf-8\") as h:\n",
    "        csv_writer = csv.DictWriter(h, header, lineterminator ='\\n')\n",
    "        csv_writer.writeheader()\n",
    "        csv_writer.writerows(g_reader)\n",
    "        \n",
    "    \n"
   ]
  },
  {
   "cell_type": "code",
   "execution_count": 45,
   "id": "fff27f22",
   "metadata": {},
   "outputs": [],
   "source": [
    "#making final adjustments to some values in attrib__ul_certified, product__country_of_origin__alpha_3 and attrib__seat_width columns\n",
    "dframe = pd.read_csv(\"homework3.csv\")\n",
    "a = len(dframe)\n",
    "\n",
    "#changing from float to string to add 'Yes/NO' values\n",
    "dframe['attrib__distressed_finish'] = dframe['attrib__distressed_finish'].map(str)\n",
    "\n",
    "for numb in range(0,a):\n",
    "    \n",
    "    #Changing UL certified from 'UL' to either 'YES' or 'NO'\n",
    "    if dframe.at[numb,'attrib__ul_certified'] == 'UL': \n",
    "        dframe.at[numb,'attrib__ul_certified'] = 'YES'\n",
    "    else:\n",
    "        dframe.at[numb,'attrib__ul_certified'] = 'NO'    \n",
    "           \n",
    "    #Changing name of Countries to 3 digit ALPHA\n",
    "    word = (dframe.at[numb,'product__country_of_origin__alpha_3'])\n",
    "    if type(word) == str:\n",
    "        (dframe.at[numb,'product__country_of_origin__alpha_3']) = word[0:3].upper()\n",
    "        \n",
    "    seat_width = (dframe.at[numb,'attrib__seat_width'])\n",
    "    if type(seat_width) == str:\n",
    "        dframe.at[numb,'attrib__seat_width']= seat_width.split('x')[0]\n",
    "        \n",
    "    #removing '$' signs and ',' from prices to round off to 2 decimal\n",
    "    cost = str(dframe.at[numb,'cost_price'])\n",
    "    cost = re.sub('[$,]', '', cost)\n",
    "    cost = float(cost)\n",
    "    dframe.at[numb,'cost_price'] = round(cost, 2)\n",
    "    \n",
    "    mini = str(dframe.at[numb,'min_price'])\n",
    "    mini = re.sub('[$,]', '', mini)\n",
    "    mini = float(mini)\n",
    "    dframe.at[numb,'cost_price'] = round(mini, 2)\n",
    "    \n",
    "    #adding Yes/No values to attrib__distressed_finish\n",
    "    fullstring = str(dframe.at[numb,'product__description'])\n",
    "    substring = \"[Dd]istress\"\n",
    "\n",
    "    if re.search(substring, fullstring):\n",
    "        dframe.at[numb,'attrib__distressed_finish'] = 'Yes' \n",
    "    else:\n",
    "        dframe.at[numb,'attrib__distressed_finish'] = 'No'\n",
    "    \n",
    "dframe.to_csv('formatted.csv', index=False) "
   ]
  },
  {
   "cell_type": "code",
   "execution_count": 33,
   "id": "b3c865cd",
   "metadata": {},
   "outputs": [],
   "source": []
  },
  {
   "cell_type": "code",
   "execution_count": 13,
   "id": "8e7a0420",
   "metadata": {},
   "outputs": [
    {
     "data": {
      "text/plain": [
       "'213'"
      ]
     },
     "execution_count": 13,
     "metadata": {},
     "output_type": "execute_result"
    }
   ],
   "source": []
  },
  {
   "cell_type": "code",
   "execution_count": null,
   "id": "fed2d4bd",
   "metadata": {},
   "outputs": [],
   "source": []
  },
  {
   "cell_type": "code",
   "execution_count": null,
   "id": "55604f54",
   "metadata": {},
   "outputs": [],
   "source": []
  },
  {
   "cell_type": "code",
   "execution_count": null,
   "id": "c0b0e3a2",
   "metadata": {},
   "outputs": [],
   "source": []
  },
  {
   "cell_type": "code",
   "execution_count": null,
   "id": "66dfacd0",
   "metadata": {},
   "outputs": [],
   "source": []
  },
  {
   "cell_type": "code",
   "execution_count": null,
   "id": "055aabea",
   "metadata": {},
   "outputs": [],
   "source": []
  },
  {
   "cell_type": "code",
   "execution_count": null,
   "id": "693a38f9",
   "metadata": {},
   "outputs": [],
   "source": []
  },
  {
   "cell_type": "code",
   "execution_count": null,
   "id": "a861e2dc",
   "metadata": {},
   "outputs": [],
   "source": []
  },
  {
   "cell_type": "code",
   "execution_count": null,
   "id": "8325becd",
   "metadata": {},
   "outputs": [],
   "source": []
  }
 ],
 "metadata": {
  "kernelspec": {
   "display_name": "Python 3",
   "language": "python",
   "name": "python3"
  },
  "language_info": {
   "codemirror_mode": {
    "name": "ipython",
    "version": 3
   },
   "file_extension": ".py",
   "mimetype": "text/x-python",
   "name": "python",
   "nbconvert_exporter": "python",
   "pygments_lexer": "ipython3",
   "version": "3.8.8"
  }
 },
 "nbformat": 4,
 "nbformat_minor": 5
}
