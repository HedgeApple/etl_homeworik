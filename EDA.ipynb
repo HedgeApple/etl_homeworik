{
 "cells": [
  {
   "cell_type": "code",
   "execution_count": 13,
   "id": "39253ade",
   "metadata": {},
   "outputs": [],
   "source": [
    "import pandas as pd\n",
    "import numpy as np\n",
    "import pycountry"
   ]
  },
  {
   "cell_type": "code",
   "execution_count": 14,
   "id": "beff127e",
   "metadata": {},
   "outputs": [],
   "source": [
    "df2=pd.read_csv(\"example.csv\")\n",
    "df = pd.read_csv(\"homework.csv\", low_memory=False)\n",
    "pd.set_option(\"display.max_columns\", 146)\n",
    "pd.set_option(\"display.max_rows\", 10)"
   ]
  },
  {
   "cell_type": "markdown",
   "id": "db25741f",
   "metadata": {},
   "source": [
    "The following cell changes the date format to ISO 8601"
   ]
  },
  {
   "cell_type": "code",
   "execution_count": 15,
   "id": "750658bf",
   "metadata": {},
   "outputs": [],
   "source": [
    "df[\"system creation date\"] = pd.to_datetime(df[\"system creation date\"], format='%m/%d/%y').dt.strftime('%Y-%m-%d')"
   ]
  },
  {
   "cell_type": "markdown",
   "id": "9b6a68ca",
   "metadata": {},
   "source": [
    "The following cell is converting the currency datatype to float and rounding it off to cents"
   ]
  },
  {
   "cell_type": "code",
   "execution_count": 16,
   "id": "f051eaa5",
   "metadata": {},
   "outputs": [],
   "source": [
    "def process_money(money):\n",
    "    if type(money) == float:\n",
    "        return money\n",
    "    elif type(money) == int:\n",
    "        return float(money)\n",
    "    elif type(money) == str:\n",
    "        return float(money.strip().replace(\"$\", \"\").replace(\",\", \"\").strip())\n",
    "\n",
    "for i in df.columns:\n",
    "    if \"$\" in i:\n",
    "        df[i]=df.apply(lambda row: process_money(row[i]), axis=1)\n",
    "        df[i]=df[i].apply(lambda x: round(x, 2) if pd.notnull(x) else x)"
   ]
  },
  {
   "cell_type": "markdown",
   "id": "04bcf128",
   "metadata": {},
   "source": [
    "There were columns that contained dimensions in cubic feet. In the following cell, they are converted to cubic inches as required"
   ]
  },
  {
   "cell_type": "code",
   "execution_count": 17,
   "id": "a3630471",
   "metadata": {},
   "outputs": [],
   "source": [
    "def cubic_feet_to_inches(cubic_feet):\n",
    "    inches = cubic_feet * 12**3\n",
    "    return inches\n",
    "\n",
    "for col in df.columns:\n",
    "    if (\"feet\" in col):\n",
    "        df[col] = df[col].apply(cubic_feet_to_inches)\n",
    "        df.rename(columns={col: col.replace(\"feet\", \"inches\" )}, inplace=True)"
   ]
  },
  {
   "cell_type": "markdown",
   "id": "4eadafb6",
   "metadata": {},
   "source": [
    "homework.csv contained column names that included \"carton\". To map the column names according to example.csv, the following cell was created"
   ]
  },
  {
   "cell_type": "code",
   "execution_count": 18,
   "id": "c0a8d1dd",
   "metadata": {},
   "outputs": [],
   "source": [
    "for m in df.columns:\n",
    "    for i in range(1,4):\n",
    "        for k in [\"width\",\"length\",'height','weight','volume']:\n",
    "            j=str(i) + \" \" + k\n",
    "            if j in m:\n",
    "                #print(\"boxes__\"+str(i-1)+\"__\"+k)\n",
    "                df.rename(columns={m: \"boxes__\"+str(i-1)+\"__\"+k }, inplace=True)\n",
    "\n",
    "df.rename(columns={\"carton2volumecubicinches\": \"boxes__\"+str(2)+\"__\"+'volume' }, inplace=True)#we had an exceptional case, that wasnt in a generic form"
   ]
  },
  {
   "cell_type": "markdown",
   "id": "50fa5f06",
   "metadata": {},
   "source": [
    "the following cell is treating the country names and converting them to Alpha_3, as it was shown in the example.csv file"
   ]
  },
  {
   "cell_type": "code",
   "execution_count": 19,
   "id": "1953213e",
   "metadata": {},
   "outputs": [],
   "source": [
    "def Country_to_alpha_3(x):\n",
    "    if not pycountry.countries.get(name=x):\n",
    "        return np.nan\n",
    "    return pycountry.countries.get(name=x).alpha_3\n",
    "#in this case we had an exception of \"Philippines\" and \"Viet Nam\" as their names were misspelled in the original document\n",
    "df[\"country of origin\"]=df[\"country of origin\"].replace([\"Phillipines\", 'Vietnam'],[\"Philippines\",\"Viet Nam\"])\n",
    "df[\"country of origin\"]=df[\"country of origin\"].fillna(\"temp\")##temp value, to be replaced afterwards\n",
    "df[\"country of origin\"].apply(lambda x: Country_to_alpha_3(x))\n",
    "df.rename(columns={\"country of origin\": \"product__country_of_origin__alpha_3\"}, inplace=True)"
   ]
  },
  {
   "cell_type": "code",
   "execution_count": 20,
   "id": "51ca75fb",
   "metadata": {},
   "outputs": [],
   "source": [
    "#replacing the word \"item\" by \"product\" as shown in the example.csv\n",
    "df.columns = [c.replace(\"item\", \"product\") for c in list(df.columns)]\n",
    "\n",
    "df.rename(columns={\"description\": \"product__description\"},inplace = True)\n",
    "\n",
    "df.rename(columns={\"brand\": \"product__brand__name\"},inplace = True)\n",
    "\n",
    "df.rename(columns={\"item category\": \"product__product_class__name\"},inplace = True)\n",
    "\n",
    "#in the example.csv file, some of the columns had the word \"Attrib\" in the beginning, i according to my understanding, added this word to some column names\n",
    "l=df.columns.get_loc(\"bulb 1 count\")\n",
    "h=df.columns.get_loc(\"furniture weight capacity (pounds)\")\n",
    "\n",
    "for i in range(l,h+1):\n",
    "    df.rename(columns={df.columns[i]: \"attrib \"+df.columns[i]},inplace = True)\n",
    "\n",
    "# adding \"__\" between the words in column names to match the \"example.csv\" format    \n",
    "for m in df.columns:\n",
    "    k= m.split(\" \")\n",
    "    if(len(k)>1):\n",
    "        df.rename(columns={m: \"__\".join(k)},inplace = True)"
   ]
  },
  {
   "cell_type": "markdown",
   "id": "3a537bca",
   "metadata": {},
   "source": [
    "the following cell is converting UPC type to string, as required."
   ]
  },
  {
   "cell_type": "code",
   "execution_count": 21,
   "id": "a1be6e1a",
   "metadata": {},
   "outputs": [],
   "source": [
    "df['upc']=df['upc'].astype(str)"
   ]
  },
  {
   "cell_type": "code",
   "execution_count": 22,
   "id": "405575ec",
   "metadata": {},
   "outputs": [
    {
     "name": "stdout",
     "output_type": "stream",
     "text": [
      "manufacturer_sku\n",
      "ean13\n",
      "weight\n",
      "length\n",
      "width\n",
      "height\n",
      "prop_65\n",
      "cost_price\n",
      "min_price\n",
      "made_to_order\n",
      "product__product_class__name\n",
      "product__brand__name\n",
      "product__title\n",
      "product__description\n",
      "product__bullets__0\n",
      "product__bullets__1\n",
      "product__bullets__2\n",
      "product__bullets__3\n",
      "product__bullets__4\n",
      "product__bullets__5\n",
      "product__bullets__6\n",
      "product__configuration__codes\n",
      "product__multipack_quantity\n",
      "product__country_of_origin__alpha_3\n",
      "product__parent_sku\n",
      "attrib__arm_height\n",
      "attrib__assembly_required\n",
      "attrib__back_material\n",
      "attrib__blade_finish\n",
      "attrib__bulb_included\n",
      "attrib__bulb_type\n",
      "attrib__color\n",
      "attrib__cord_length\n",
      "attrib__design_id\n",
      "attrib__designer\n",
      "attrib__distressed_finish\n",
      "attrib__fill\n",
      "attrib__finish\n",
      "attrib__frame_color\n",
      "attrib__hardwire\n",
      "attrib__kit\n",
      "attrib__leg_color\n",
      "attrib__leg_finish\n",
      "attrib__material\n",
      "attrib__number_bulbs\n",
      "attrib__orientation\n",
      "attrib__outdoor_safe\n",
      "attrib__pile_height\n",
      "attrib__seat_depth\n",
      "attrib__seat_height\n",
      "attrib__seat_width\n",
      "attrib__shade\n",
      "attrib__size\n",
      "attrib__switch_type\n",
      "attrib__ul_certified\n",
      "attrib__warranty_years\n",
      "attrib__wattage\n",
      "attrib__weave\n",
      "attrib__weight_capacity\n",
      "boxes__0__weight\n",
      "boxes__0__length\n",
      "boxes__0__height\n",
      "boxes__0__width\n",
      "boxes__1__weight\n",
      "boxes__1__length\n",
      "boxes__1__height\n",
      "boxes__1__width\n",
      "boxes__2__weight\n",
      "boxes__2__length\n",
      "boxes__2__height\n",
      "boxes__2__width\n",
      "boxes__3__weight\n",
      "boxes__3__length\n",
      "boxes__3__height\n",
      "boxes__3__width\n",
      "product__styles\n"
     ]
    }
   ],
   "source": [
    "for i in df2.columns:\n",
    "    print (i)"
   ]
  },
  {
   "cell_type": "code",
   "execution_count": 23,
   "id": "591352a8",
   "metadata": {},
   "outputs": [
    {
     "name": "stdout",
     "output_type": "stream",
     "text": [
      "product__number\n",
      "upc\n",
      "new__product\n",
      "system__creation__date\n",
      "min__order__qty\n",
      "sales__uom\n",
      "wholesale__($)\n",
      "map__($)\n",
      "msrp__($)\n",
      "product__description\n",
      "long__description\n",
      "product__brand__name\n",
      "product__category\n",
      "product__type\n",
      "outdoor\n",
      "product__width__(inches)\n",
      "product__depth__(inches)\n",
      "product__height__(inches)\n",
      "product__diameter__(inches)\n",
      "product__weight__(pounds)\n",
      "multi-piece__dimension__1__(inches)\n",
      "multi-piece__dimension__2__(inches)\n",
      "multi-piece__dimension__3__(inches)\n",
      "multi-piece__dimension__4__(inches)\n",
      "product__materials\n",
      "primary__color__family\n",
      "product__finish\n",
      "product__finish__1\n",
      "product__finish__2\n",
      "product__finish__3\n",
      "primary__image__filename\n",
      "url__primary__image\n",
      "url__alternate__image__1\n",
      "url__alternate__image__2\n",
      "url__alternate__image__3\n",
      "url__alternate__image__4\n",
      "url__alternate__image__5\n",
      "url__alternate__image__6\n",
      "url__alternate__image__7\n",
      "url__alternate__image__8\n",
      "url__room__setting__image__1\n",
      "url__room__setting__image__2\n",
      "url__room__setting__image__3\n",
      "url__drawing\n",
      "url__interactive__360__image\n",
      "url__animated__gif\n",
      "url__product__sheet\n",
      "url__instruction__sheet\n",
      "url__marketing__sheet__1\n",
      "url__california__label__(jpg)\n",
      "url__california__label__(pdf)\n",
      "product__style\n",
      "product__substyle\n",
      "product__substyle__2\n",
      "product__collection\n",
      "licensed__by\n",
      "carton__count\n",
      "truck__only\n",
      "boxes__0__width\n",
      "boxes__0__length\n",
      "boxes__0__height\n",
      "boxes__0__weight\n",
      "boxes__0__volume\n",
      "boxes__1__width\n",
      "boxes__1__length\n",
      "boxes__1__height\n",
      "boxes__1__weight\n",
      "boxes__2__volume\n",
      "boxes__2__width\n",
      "boxes__2__length\n",
      "boxes__2__height\n",
      "boxes__2__weight\n",
      "boxes__2__volume\n",
      "ada__compliant\n",
      "available__with__eef\n",
      "conversion__kit__option\n",
      "title__24__compliant\n",
      "safety__rating\n",
      "certified__damp/wet\n",
      "attrib__bulb__1__count\n",
      "attrib__bulb__1__wattage\n",
      "attrib__bulb__1__type\n",
      "attrib__bulb__1__base\n",
      "attrib__bulb__1__included\n",
      "attrib__bulb__2__count\n",
      "attrib__bulb__2__wattage\n",
      "attrib__bulb__2__type\n",
      "attrib__bulb__2__base\n",
      "attrib__bulb__2__included\n",
      "attrib__led\n",
      "attrib__total__lumens\n",
      "attrib__color__temperature\n",
      "attrib__cri\n",
      "attrib__voltage\n",
      "attrib__switch__type\n",
      "attrib__dimmable\n",
      "attrib__lamp__base__dimensions__(inches)\n",
      "attrib__backplate/canopy__dimensions__(inches)\n",
      "attrib__extension__rods__(inches)\n",
      "attrib__min__overall__height__(inches)\n",
      "attrib__max__overall__height__(inches)\n",
      "attrib__min__extension__(inches)\n",
      "attrib__max__extension__(inches)\n",
      "attrib__hcwo__(inches)\n",
      "attrib__shade/glass__description\n",
      "attrib__shade/glass__materials\n",
      "attrib__shade/glass__finish\n",
      "attrib__shade/glass__width\n",
      "attrib__shade/glass__width__at__top__(inches)\n",
      "attrib__shade/glass__width__at__bottom__(inches)\n",
      "attrib__shade/glass__height__(inches)\n",
      "attrib__shade__shape\n",
      "attrib__harp/spider\n",
      "attrib__cord__color\n",
      "attrib__cord__length__(inches)\n",
      "attrib__chain__length__(inches)\n",
      "attrib__chain__price__($)\n",
      "attrib__replacement__glass__price__($)\n",
      "attrib__replacement__crystal__price__($)\n",
      "attrib__mirror__width__(inches)\n",
      "attrib__mirror__height__(inches)\n",
      "attrib__drawer__count\n",
      "attrib__drawer__1__interior__dimensions__(inches)\n",
      "attrib__drawer__2__interior__dimensions__(inches)\n",
      "attrib__drawer__3__interior__dimensions__(inches)\n",
      "attrib__furniture__arm__height__(inches)\n",
      "attrib__furniture__seat__height__(inches)\n",
      "attrib__furniture__seat__dimensions__(inches)\n",
      "attrib__furniture__weight__capacity__(pounds)\n",
      "product__country_of_origin__alpha_3\n",
      "primary__catalog\n",
      "primary__catalog__page\n",
      "related__products\n",
      "brand__bio\n",
      "helpful__tips\n",
      "selling__point__1\n",
      "selling__point__2\n",
      "selling__point__3\n",
      "selling__point__4\n",
      "selling__point__5\n",
      "selling__point__6\n",
      "selling__point__7\n",
      "selling__point__8\n",
      "selling__point__9\n",
      "selling__point__10\n",
      "record__status\n"
     ]
    }
   ],
   "source": [
    "for i in df.columns:\n",
    "    print (i)"
   ]
  },
  {
   "cell_type": "markdown",
   "id": "cf5db4f5",
   "metadata": {},
   "source": [
    "All the units of weight were found to be in pounds, hence there was no need for any conversion."
   ]
  },
  {
   "cell_type": "markdown",
   "id": "9ae52c77",
   "metadata": {},
   "source": [
    "no alternative names were found for some columns in \"homework.csv\" file, therefore these names were left as they were."
   ]
  },
  {
   "cell_type": "markdown",
   "id": "0ebf21dd",
   "metadata": {},
   "source": [
    "finally, converting the processed dataframe to another CSV file"
   ]
  },
  {
   "cell_type": "code",
   "execution_count": 12,
   "id": "ba8427d9",
   "metadata": {},
   "outputs": [],
   "source": [
    "df.to_csv('formatted.csv')"
   ]
  },
  {
   "cell_type": "code",
   "execution_count": null,
   "id": "d09bb7eb",
   "metadata": {},
   "outputs": [],
   "source": []
  }
 ],
 "metadata": {
  "kernelspec": {
   "display_name": "Python 3 (ipykernel)",
   "language": "python",
   "name": "python3"
  },
  "language_info": {
   "codemirror_mode": {
    "name": "ipython",
    "version": 3
   },
   "file_extension": ".py",
   "mimetype": "text/x-python",
   "name": "python",
   "nbconvert_exporter": "python",
   "pygments_lexer": "ipython3",
   "version": "3.9.13"
  }
 },
 "nbformat": 4,
 "nbformat_minor": 5
}
